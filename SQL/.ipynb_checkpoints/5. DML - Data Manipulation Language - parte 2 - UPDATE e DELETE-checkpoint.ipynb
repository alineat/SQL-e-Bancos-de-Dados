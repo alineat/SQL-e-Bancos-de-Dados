{
 "cells": [
  {
   "cell_type": "markdown",
   "metadata": {},
   "source": [
    "# 1. Removendo dados em estruturas existentes"
   ]
  },
  {
   "cell_type": "markdown",
   "metadata": {},
   "source": [
    "- declaração DELETE remove uma ou mais linhas de uma tabela ou view;\n",
    "- DELETE é diferente de fazer um DROP (que remove a tabela em si). No DELETE você só esá apagando uma das linhas da sua tabela.\n",
    "- o parâmetro table_sources pode ser usado para especificar tabelas ou views adicionais que podem ser usadas na cláusula WHERE;\n",
    "- Muita gente não remove linha, são práticas novas, pois antigamente espaço de disco era muito caro, atualmente não. Como o espaço de disco ficou barato, muita gente não usa o comando DELETE. As pessoas preferem criar um comando a mais, uma flag e dizer: \"tupla utilizada ou não\". Quando for remover, apenas põe como flag \"tupla não utilizada\". Assim, aquela entidade se mantém integra, você ainda consegue acessar aquela entidade que foi removida, mas você ainda não a removeu do seu banco de dados. A vantagem é que o comando DELETE, assim como o DROP, você não tem como voltar atrás. Uma vez que você deleta uma linha ela some do seu banco de dados. O mesmo vale para o DROP, se você dropar uma tabela ou coluna, ela não existe mais. Por isso muita gente prefere adicionar uma coluna a mais e manter a linha no banco de dados do que remover.\n",
    "- Mas há casos em que precisamos remover o dado, por isso que esses comandos ainda existem no banco de dados e na linguagem SQL.\n",
    "- Comando DELETE é similar ao INSERT. Leia assim: delete dado/tabela/visão da tabela x, aonde você tem uma condição."
   ]
  },
  {
   "cell_type": "markdown",
   "metadata": {},
   "source": [
    "__Sintaxe do DELETE__  \n",
    "`DELETE table_or_view -- DELETE nome_da_tabela/visao_q_vc_quer_remover\n",
    "FROM table_sources\n",
    "WHERE search_condition`"
   ]
  },
  {
   "cell_type": "markdown",
   "metadata": {},
   "source": [
    "__DELETE sem a cláusula WHERE__\n",
    "`DELETE FROM SomeTable;`\n",
    "Ex.: DELETE FROM Sales.SalesPerson; -> removo o dado da tabela x. Não estou informando quais dados estou removendo. A cláusula está bem limpa, neste caso ele vai apagar todos os dados da minha tabela. Apago a tabela sem apagar a estrutura da minah tabela. A diferença desse comando para o DROP table é que eu estou apagando a tabela e ai eu teria que criá-la de novo. Com o DELETE FROM e o nome da tabela em si eu estou apagando os dados da tabela, mas ainda mantenho a estrutura da tabela.  \n",
    "  \n",
    "__DELETE usando TOP__\n",
    "Do mesmo modo como há o comando TOP para INSERT, eu posso apagar algumas linhas iniciais e não todos os dados da minha tabela.\n",
    "`DELETE TOP (1)\n",
    "FROM SomeTable;`\n",
    "Ex.:  \n",
    "DELETE TOP (2.5) PERCENT\n",
    "FROM Production.ProductInventory;\n",
    "Veja que apago as linhas principais, utilizo um percentual, apago o top 2.5% da minha tabela. Independente do que for o conteúdo, ele apaga as 2,5% de linhas que aparecem. Esse comando é útil quando você está trabalhando com teste, com algum exemplo em que o dado não importa, você pode apagar para ter mais espaço em disco ou algum outro motivo.  \n",
    "  \n",
    "__DELETE usando uma Subquery__\n",
    "Também posso fazer subquery, que nem na inserção de dados. Posso fazer uma consulta, a qual me dá um resultado e este resultado que eu estou apagando. No exemplo abaixo apago um dado através de uma query de consulta. Apago o dado da tabela x, aonde o ID se encontra em um SELECT. Por ex. quem fez menos vendas eu apago. Ou delete da tabela x quem começa com o nome Pedro, ou quem tem o ID x... Eu posso fazer esse tipo de construção no meu comando DELETE.  \n",
    "`DELETE FROM SomeTable\n",
    "WHERE SomeColumn IN\n",
    "    (Subquery Definition)` \n",
    "  \n",
    "`DELETE FROM\n",
    "Sales.SalesPersonQuotaHistory\n",
    "    (SELECT SalesSalesPersonID\n",
    "    FROM Sales.SalesPerson\n",
    "    WHERE SalesYTD > 2500000.00;`\n",
    "  \n",
    "A vantagem é que vo0cê pode querer apagar só quem tem por ex. o CPF entre 1000 e 2.00.000, ou quem nasceu entre 70 e 80, já que não quero apagar o resto dos dados. Através das opções do WHERE eu consigo construir quais situações eu estou querendo apagar. Quais linhas eu estou selecionando."
   ]
  },
  {
   "cell_type": "markdown",
   "metadata": {},
   "source": [
    "- Também consigo truncar a tabela. Truncar a tabela é eu conseguir quebrar a tabela em partes.\n",
    "- A declaração TRUNCATE é mais rápida que o DELETE, mas não há como restringir as linhas que serão removidas através da cláusula WHERE, não consigo utilizar o comando WHERE (essa é uma desvantagem). Já no DELETE eu consigo usar o WHERE, porém é mais lento.   \n",
    "__Sintaxe do TRUNCATE TABLE__  \n",
    "`TRUNCATE TABLE\n",
    "    [ { database_name.[ schema_name ]. | schema_name . } ]\n",
    "    table_name\n",
    "[ ; ]`  \n",
    "  \n",
    "Ex.:\n",
    "`TRUNCATE TABLE Cliente;`\n",
    "`TRUNCATE TABLE Sales.SalesPerson;`"
   ]
  },
  {
   "cell_type": "markdown",
   "metadata": {},
   "source": [
    "A boa prática ao usar o comando DELETE é aplicar um SELECT antes, para verificar se os dados retornados são os que queremos eliminar. Dessa forma teremos certeza de que estamos criando o campo WHERE corretamente.  \n",
    "`SELECT name FROM Cliente\n",
    "WHERE name like 'marcalo%';`  \n",
    "Caso o retorno seja o que queremos eliminar, substituimos o SELECT pelo DELETE. Essa prática não consome muit tempo e vai lhe dar segurança oa usar o comando DELETE sem medo de apagar um dado, sem apagar algo que não tem mais volta (a não se rque você tenha um backup do banco ou da tabela).   \n",
    "`DELETE FROM Cliente\n",
    "WHERE name like 'marcelo%';`\n",
    "\n",
    "P.s.: vamos aprender a fazer consultas mais adiante.\n"
   ]
  },
  {
   "cell_type": "markdown",
   "metadata": {},
   "source": [
    "# 2. Atualizando dados em estruturas existentes"
   ]
  },
  {
   "cell_type": "markdown",
   "metadata": {},
   "source": [
    "- A declaração UPDATE altera valores dos dados de uma ou mais linhas de uma tabela. No caso você já tem um valor inserido;\n",
    "- Por ex. você nasceu em 01/01/2000, porém você errou a data e nasceu em 01/01/2007. Você não precisa apagar toda essa linha e inseri-la de novo. Você consegue alterar o valor através do comando UPDATE.\n",
    "- Uma declaração UPDATE referenciando uma table or view pode alterar os dados somente em uma tabela ao mesmo tempo;\n",
    "- UPDATE tem 3 claúsulas principais:  \n",
    "    - SET – Lista de campos, separados por vírgula, que serão alterados.  \n",
    "    - FROM – Fornece objetos fonte para a cláusula SET.  \n",
    "    - WHERE – Especifica a condição de procura para aplicar as alterações com a cláusula SET.  \n",
    "__Sintaxe do UPDATE__\n",
    "`UPDATE table_or_view\n",
    "SET column_name = expression\n",
    "FROM table_sources\n",
    "WHERE search_condition`  \n",
    "  \n",
    "Leia assim: UPDATE tabela x, SET qual o conjunto que você está mudando (ex. set coluna_placa pelo valor x), FROM nome_da_tabela, e o WHERE você dá a condição. Você pode ou não usar o WHERE, se você não usar o WHERE você está alterando todas as colunas, todos os valores que estão naquela coluna (informada no SET). Por isso é recomendável usar o WHERE para garantir que você não está cometendo nenhum equívoco e está fazendo a mudança correta.  \n",
    "Ex.:\n",
    "  \n",
    "__Declaração simples do UPDATE__  \n",
    "`UPDATE SomeTable\n",
    "SET Column = Value`\n",
    "  \n",
    "UPDATE tabela venda, eu mudo o Bonus para 6000 independente de qualquer cláusula. Todos os bônus estão sendo alterados para 6000.\n",
    "`UPDATE Sales.SalesPerson\n",
    "SET Bonus = 6000;`  \n",
    "  \n",
    "Veja que posso fazer operações matemáticas através do UPDATE, por ex.: pego o Bonus e multiplico por 2.\n",
    "`UPDATE Sales.SalesPerson\n",
    "SET Bonus = Bonus * 2;`  \n",
    "  \n",
    "__UPDATE COM A CLÁUSULA WHERE__\n",
    "`UPDATE SomeTable\n",
    "SET Column = Value\n",
    "WHERE SearchExpression`\n",
    "  \n",
    "`UPDATE Production.Product\n",
    "SET Color = N’Metallic Red’\n",
    "WHERE Name LIKE ’Road-250%’\n",
    "AND Color = ’Red’;`\n",
    "Leia assim: update a tabela Product, onde eu estou mudando Color que vai ser Metallic Red; aonde na tabela name aonde Road-250% e cor é red. Ou seja, altero a cor onde é red e onde o campo é Road-250%. Dou regras, em que conforme o DELETE você tem que rodar um SELECT antes para ver se está condizente, se realmente é aquele campo que você quer apagar, no UPDATE também é bom fazer isso. Ignora a parte do SET e ao invés disso faz um SELECT * FROM Product WHERE... para ver se os campos estão coerentes. Se é o que realmente você quer mudar. É um tempo a mais, mas que vai lhe dar uma tranquilidade.  \n",
    "  \n",
    "__UPDATE usando uma Subquery__\n",
    "Também posso fazer que nem o DELETE e o INSERT, posso fazer uma subquery, em que eu estou executando um UPDATE aonde o meu WHERE tem uma subqeury. Parte do meu WHERE é o reusltado de alguma busca.  \n",
    "`UPDATE SomeTable\n",
    "SET Column = Value\n",
    "FROM SomeSubquery\n",
    "`\n",
    "  \n",
    "`UPDATE Sales.SalesPerson\n",
    "SET SalesYTD = SalesYTD + SubTotal\n",
    "FROM Sales.SalesPerson AS sp\n",
    "JOIN Sales.SalesOrderHeader AS so\n",
    "    ON sp.BusinessEntityID = so.SalesPersonID\n",
    "    AND so.OrderDate = (SELECT MAX(OrderDate)\n",
    "                        FROM Sales.SalesOrderHeader \n",
    "                        WHERE SalesPersonID = \t\t\t\t\t\t\t\t  sp.BusinessEntityID);`\n",
    "\n"
   ]
  },
  {
   "cell_type": "markdown",
   "metadata": {},
   "source": [
    "__Exemplo:__  \n",
    "`\n",
    "Insert into Aluno (Nome) VALUES (‘Matheus’ )\n",
    "Insert into Prova ( Matricula, Nota ) VALUES (503, 10 )\n",
    "Delete from prova where Matricula = 500\n",
    "Delete from aluno where Matricula = 500`\n",
    "- Veja que eu faço o Delete duas vezes, pois não é porque eu apaguei de uma tabela, que ele apaga de outra tabela. Tenho que apagar de todas as tabelas, a não ser que tenha alguma CONSTRAINT que me dá alguma ordem ou regra específica.\n",
    "- Vou alterar a matricula da Prova, de 502 para 504:\n",
    "`Insert into Aluno (Nome) VALUES (‘Felipe’ )  --inseri Felipe\n",
    "Update prova set Matricula = 504 where matricula = 502\n",
    "`  \n",
    "\n",
    "![alt text](imagens/tabela1.jpg)  \n",
    "![alt text](imagens/tabela2.jpg)  \n",
    "\n",
    "\n"
   ]
  },
  {
   "cell_type": "markdown",
   "metadata": {},
   "source": [
    "# 3. Exercícios\n",
    "- Vide no sqlfiddle: http://sqlfiddle.com/#!9/de747e/2"
   ]
  },
  {
   "cell_type": "code",
   "execution_count": null,
   "metadata": {},
   "outputs": [],
   "source": []
  }
 ],
 "metadata": {
  "kernelspec": {
   "display_name": "Python 3",
   "language": "python",
   "name": "python3"
  },
  "language_info": {
   "codemirror_mode": {
    "name": "ipython",
    "version": 3
   },
   "file_extension": ".py",
   "mimetype": "text/x-python",
   "name": "python",
   "nbconvert_exporter": "python",
   "pygments_lexer": "ipython3",
   "version": "3.6.5"
  }
 },
 "nbformat": 4,
 "nbformat_minor": 2
}
