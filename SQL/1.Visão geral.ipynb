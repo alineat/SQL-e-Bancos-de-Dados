{
 "cells": [
  {
   "cell_type": "markdown",
   "metadata": {},
   "source": [
    "# 1. Introdução"
   ]
  },
  {
   "cell_type": "markdown",
   "metadata": {},
   "source": [
    "- Vamos aprender os principais conceitos de banco de dados relacionais. São conceitos simples, mas importantes que serão usados em toda a carreira de um programador.   \n",
    "- Tão importante quanto lógica de programação é saber os conceitos de banco de dados.  \n",
    "- Para desenvolver um sistema de informação, por ex. um controle de estoque, é necessário esses dois conhecimentos que não mudam durante os anos: o conhecimento de lógica de programação (que é o mesmo conhecimento que é usado em qualquer linguagem); e os conceitos de bancos de dados (que serão usados independente de qual sistema de gerenciamento de banco de dados for utilizado)."
   ]
  },
  {
   "cell_type": "markdown",
   "metadata": {},
   "source": []
  },
  {
   "cell_type": "markdown",
   "metadata": {},
   "source": [
    "# 1. Tipos de modelagem"
   ]
  },
  {
   "cell_type": "markdown",
   "metadata": {},
   "source": [
    "- Vide Modelo conceitual, lógico e físico (visto em modelagem de dados)"
   ]
  },
  {
   "cell_type": "markdown",
   "metadata": {},
   "source": [
    "# 2. Tipos de dados e estruturas básicas"
   ]
  },
  {
   "cell_type": "markdown",
   "metadata": {},
   "source": [
    "# Por que a linguagem SQL varia de SGBD para SGBD?\n",
    "https://pt.stackoverflow.com/questions/325933/por-que-a-linguagem-sql-varia-de-sgbd-para-sgbd "
   ]
  },
  {
   "cell_type": "code",
   "execution_count": null,
   "metadata": {},
   "outputs": [],
   "source": []
  }
 ],
 "metadata": {
  "kernelspec": {
   "display_name": "Python 3",
   "language": "python",
   "name": "python3"
  },
  "language_info": {
   "codemirror_mode": {
    "name": "ipython",
    "version": 3
   },
   "file_extension": ".py",
   "mimetype": "text/x-python",
   "name": "python",
   "nbconvert_exporter": "python",
   "pygments_lexer": "ipython3",
   "version": "3.6.5"
  }
 },
 "nbformat": 4,
 "nbformat_minor": 2
}
