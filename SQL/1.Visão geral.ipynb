{
 "cells": [
  {
   "cell_type": "markdown",
   "metadata": {},
   "source": [
    "# 1. Introdução"
   ]
  },
  {
   "cell_type": "markdown",
   "metadata": {},
   "source": [
    "- Vamos aprender os principais conceitos de banco de dados relacionais. São conceitos simples, mas importantes que serão usados em toda a carreira de um programador.   \n",
    "- Tão importante quanto lógica de programação é saber os conceitos de banco de dados.  \n",
    "- Para desenvolver um sistema de informação, por ex. um controle de estoque, é necessário esses dois conhecimentos que não mudam durante os anos: o conhecimento de lógica de programação (que é o mesmo conhecimento que é usado em qualquer linguagem); e os conceitos de bancos de dados (que serão usados independente de qual sistema de gerenciamento de banco de dados for utilizado)."
   ]
  },
  {
   "cell_type": "markdown",
   "metadata": {},
   "source": [
    "- SQL e consulta são importantes p/ trabalhar c/ Banco de Dados, porque você pode otimizar as consultas, configurações e características sem ter que mexer no modelo conceitual e no modelo lógico do seu projeto.\n",
    "- Vamos trabalhar com o modelo físico:\n",
    "![alt text](imagens/projeto-bd.jpg)"
   ]
  },
  {
   "cell_type": "markdown",
   "metadata": {},
   "source": [
    "## 1.2. Histórico da Linguagem SQL"
   ]
  },
  {
   "cell_type": "markdown",
   "metadata": {},
   "source": [
    "- A linguagem SQL foi projetada e implementada no Departamento da IBM, como a interface p/ um sistema gerenciador de banco de dados (SGBD) relacioanl experimental.\n",
    "- Um dos objetivos em seu desenvolvimento era que a linguagem fosse simples de aprender e utilizar. O uso de inglês estruturado na definição da linguagem auxilia a atingir esse objetivo.\n",
    "- A linguagem SQL se tornou um padrão para banco de dados relacionais, independente de fornecedor, o que facilita a migração de aplicações entre diferentes fornecedores de SGBDs relacionais. A migração é facilitada pois o código SQL escrito seguem os mesmos padrões da linguagem. Além disso podemos escrever programas que acessam mais de um SGBD relacional sem alterar a linguagem de consulta a esses bancos de dados.\n",
    "- A padronização da linguagem SQL é realizado pelos institutos ANSI e ISSO. Os fornecedores de SGBDs relacionais implementam esse padrão e adicionam ao padrão funcionalidades específicas. Ou seja, em um SGBD relacional em particular temos dois conjuntos: as funcionalidades que seguem o padrão estabelecido pelo ANSI/ISO e de funcionalidades particulares desse fornecedor. Quando podemos escolher entre duas funcionalidades em que uma seja padrão e a outra seja particular, uma boa prática é usar a padrão pois facilita uma migração futura e é mais conhecida pelos programadores. O uso de uma particular é feita por motivos de desempenho ou de facilitação de escrita e código, mas deve ser feita de modo consciente."
   ]
  },
  {
   "cell_type": "markdown",
   "metadata": {},
   "source": [
    "## 1.3. Características da Linguagem SQL"
   ]
  },
  {
   "cell_type": "markdown",
   "metadata": {},
   "source": [
    "- declarativa de alto nível (escrevemos o que queremos de resultado e não como obtemos o resultado).\n",
    "Ex.:\n",
    "- Imagine que você quer que um robô pegue uma garrafa de água gelada para você. Em uma linguagem procedural – aquela que você escreve como obter o resultado, como Python, por exemplo, programaríamos o robô como: \n",
    "1. vá até a geçadeira \n",
    "2. abra a geladeira \n",
    "3. pegue a garrafa com água \n",
    "4. Feche a geladeira \n",
    "5. Traga a garrafa de água para mim\n",
    "- Repare que determinamos como o robô executa as ações até a garrafa de água estar em nossas mãos. Em uma linguagem declarativa, determinaríamos para o robô instruções como:\n",
    "1. Traga para mim: A garrafa de água\n",
    "2. Da: Geladeira\n",
    "- Veja que escrevemos o que queremos e não como o robô executará o procedimento até trazer a água para nós.\n",
    "- Na linguagem SQL escrevemos o que queremos e não como será executada. As otimizações e decisões sobre como executar a consulta são realizadas pelo SGBD.\n",
    "- Na linguagem SQL usamos os termos tabela, linha e coluna.\n"
   ]
  },
  {
   "cell_type": "markdown",
   "metadata": {},
   "source": [
    "## 1.4. Sub linguagens do SQL"
   ]
  },
  {
   "cell_type": "markdown",
   "metadata": {},
   "source": [
    "A linguagem SQL fornece várias instruções e entre essas instruções temos algumas para definições de dados, consultas e atualizações de dados.\n",
    "- DDL (Data Definition Language): definição de dados, cria estruturas do banco de dados e regras de armazenamento;\n",
    "- DML (Data Manipulation Language): manipulação de dados;\n",
    "- DQL (Data Query Language): pesquisa/consulta de dados otimizadas.\n",
    "Há outras instruções como: Definição de visões, especificação de segurança e autorização, especificação de controle de transações..."
   ]
  },
  {
   "cell_type": "markdown",
   "metadata": {},
   "source": [
    "# 2. Tipos de modelagem"
   ]
  },
  {
   "cell_type": "markdown",
   "metadata": {},
   "source": [
    "- Vide Modelo conceitual, lógico e físico (visto em modelagem de dados)"
   ]
  },
  {
   "cell_type": "markdown",
   "metadata": {},
   "source": [
    "# 3. Tipos de dados e estruturas básicas"
   ]
  },
  {
   "cell_type": "markdown",
   "metadata": {},
   "source": [
    "- Agora que vamos fazer o modelo físico, precisamos nos preocupar com os tipos de dados de cada entidade. Ex. idade é um tipo inteiro, nome um tipo string...\n",
    "- Bancos de dados associam tipos de dados a colunas, expressões, variáveis e parâmetros;\n",
    "- Tipos de dados determinam quais tipos de valores serão permitidos no armazenamento. Os principais tipos são agrupados nas categorias:\n",
    " - Números exatos;\n",
    " - Números aproximados;\n",
    " - Data e Hora;\n",
    " - Cadeias de caracteres (strings);\n",
    " - Cadeias de caracteres Unicode (strings Unicode);\n",
    " - Binários;\n",
    " - Outros tipos."
   ]
  },
  {
   "cell_type": "markdown",
   "metadata": {},
   "source": [
    "## 3.1. Numéricos exatos\n",
    "- armazena números de forma exata, não faz a aproximação e um determinado número. Pode ser inteiro, decimal ou monetário."
   ]
  },
  {
   "cell_type": "markdown",
   "metadata": {},
   "source": [
    "### 3.1.1. Inteiro\n",
    "- Ex.: 1, -50, 5000.\n",
    "- Há 4 tipos de dados, cda um possui um intervalo de valores que podem ser representados. Qnto maior o intervalo, maior o espaço de armazenamento em bytes.\n",
    "- Ao escolher um tipo de dado inteiro temos que considerar os valores que iremos manipular. Ex., a idade de uma pessoa começa em 0 e o valor máximo é um pouco acima de 100. Então um tinyint é escolhido nesse caso, pois todas as idades cabem no intervalo e usamos o menor número de bytes possível. Se escolhermos um int sobraria um intervalo muito grande e estaríamos desperdiçando bytes. A escolha do tamanho do tipo de dado tem impacto sobre o espaço de armazenamento do banco de dados e sobre o desempenho de consultas. \n",
    "\n",
    "![alt text](imagens/a1.jpg)"
   ]
  },
  {
   "cell_type": "markdown",
   "metadata": {},
   "source": [
    "### 3.1.2. Decimal/Numeric\n",
    "- Armazenamos números decimais, aqueles que possuem casas decimais, como: 10,56, -789,12346, 5,0. Para representar esses números no SQL precisamos definir dois parâmetros: a precisão do número e a escala. A precisão de um número decimal é o número máximo de dígitos decimais que podem ser armazenados no número, tanto antes ou depois da vírgula. Já a escala é o número máximo de dígitos decimais que poderão ser arma- zenados à direita da vírgula. \n",
    "- Ao armazenar a nota de um aluno de uma faculdade em que a nota pode variar de 0,00 à 10,00, a precisão necessária é 4 porque o número máximo de dígitos no maior valor é (10,00). Já a escala nesse exemplo é 2, pois precisamos armazenar duas casas depois da vírgula. \n",
    "![alt text](imagens/a2.jpg)\n",
    "- Para declarar esses tipos de dados podemos fazer de algumas formas: \n",
    " - DECIMAL – Sem especificar precisão e escala são utilizados valores padrões. O padrão é precisão ter o valor 18 e para a escala é 0. Ou seja, é equivalente a DECIMAL (18) ou a DECIMAL (18,0). \n",
    " - DECIMAL (4) – Ao declarar dessa forma, a escala utiliza o padrão 0. É equivalente a DECIMAL (4,0). \n",
    " - DECIMAL (4,2) – Dessa forma temos precisão 4 e escala 2. Informamos tanto a precisão quanto escala. Veja que os números nesse exemplo possuem quatro dígitos no total e duas casas após a vírgula, como em 99,12 e -15,45. Não confundir com 1234,12, que tem 6 dígitos no total e duas casas depois da vírgula. Nesse caso o tipo de dado deve ser pelo menos DECIMAL(6,2). \n",
    "Atenção: no SQL é utilizado o padrão americano para números, isso é, a separação e milhares é feito por vírgulas e a separação das casas decimais é feita utilizando o ponto. Em português o número 123.456.789,123 é representado como 123,456,789.123. Ou seja, no SQL vamos usar o ponto para indicar as casas decimais, como 123456789.123 ao invés de 123456789,123."
   ]
  },
  {
   "cell_type": "markdown",
   "metadata": {},
   "source": [
    "### 3.1.3. Monetário\n",
    "- Quando necessário armazenar valores monetários temos como opção os tipos money e smallmoney. Como nos inteiros o que varia entre os dois tipos é o intervalo para o valor do número e o espaço de armazenamento necessário. A tabela abaixo mostra os tipos Money e smallmoney detalhando os intervalos e espaço de armazenamento em bytes. Também para esses tipos a escolha de cada um é tomada com base no menor espaço de armazenamento que o nú- mero que está trabalhando pode ter. Ou em outras palavras, pensar no valor mínimo e máximo e escolher o tipo de dado em que esses valores se encaixam com menor sobra. \n",
    "![alt text](imagens/a3.jpg)"
   ]
  },
  {
   "cell_type": "markdown",
   "metadata": {},
   "source": [
    "## 3.2. Números aproximados\n",
    "- armazenam valores aproximados de números. Tome cuidado para não utilizar esses tipos de dados quando é necessário exatidão nos números, como em valores monetários, por exemplo. Geralmente esses tipos de dados são utilizados quando são provenientes de medições como peso e distância em que o último número da medida já possui uma aproximação pelo próprio aparelho que realizou a medida. Podemos escolher entre os tipos de dados float e real para números aproximados. A tabela abaixo detalha esses dois tipos. \n",
    "![alt text](imagens/a9.jpg)"
   ]
  },
  {
   "cell_type": "markdown",
   "metadata": {},
   "source": [
    "## 3.3. Data e Hora\n",
    "- Para armazenarmos data, hora ou data e hora temos alguns tipos de dados, são eles: date, datetime, date- time2, datetimeoffset, smalldatetime e time. Além do intervalo permitido e do armazenamento em bytes temos também a acurácia de cada tipo. \n",
    "- A acurácia é a menor unidade de tempo que um tipo de dados de data e hora pode armazenar. A tabela abaixo contém o tipo de dado, o espaço de armazenamento em bytes, o intervalo de data representado, a acurácia e o formato de entrada recomendado. \n",
    "- O formato de entrada recomendado é neutro em relação à linguagem. Isso é, se tivermos o valor ‘03/02/2018’ não sabemos se está representando três de fevereiro de 2018 ou dois de março de 2018. A primeira interpretação é a linguagem português brasileiro e a segunda é verdadeira para a linguagem inglês americano. Então se utilizarmos o valor ‘20180203’, ou seja, formato ano, mês e dia, é neutro em relação à linguagem. \n",
    "![alt text](imagens/a6.jpg)\n",
    "![alt text](imagens/a7.jpg)\n",
    "![alt text](imagens/a8.jpg)"
   ]
  },
  {
   "cell_type": "markdown",
   "metadata": {},
   "source": [
    "## 3.4. Cadeias de caracteres (strings)\n",
    "- Existem duas subcategorias de tipos de dados categorizados como cadeias de caracteres. Elas são não-Unicode e Unicode. Cadeias de caracteres não Unicode utilizam a codificação de caracteres definida na colação do banco de dados. A codificação basicamente traduz uma sequencia de bytes em um caractere específico, como na tabela ASCII. Codificações comuns são UTF-8 e a ISO-8859-1 (conhecida como Latin-1). Você já deve ter entrado em uma página da Internet e visto caracteres estranhos como ☺ e □ no lugar principalmente de caracteres acentuados. Isso provavelmente se deve aos bytes serem armazenados no servidor como ISO-8859-1 e o navegador utilizou outra codificação como UTF-8 para interpretar os bytes. Como as codificações são diferentes um caractere como \"à\" foi lido como □."
   ]
  },
  {
   "cell_type": "markdown",
   "metadata": {},
   "source": [
    "### 3.4.1. Cadeias de caracteres não Unicode\n",
    "- Os tipos de dados nessa subcategoria são: char e varchar. Podemos especificar o tamanho de cada tipo deles como char(10) ou varchar(10). O tipo de dado char(n) armazena sempre n caracteres e cada caracteres ocupa 1 byte. Por exemplo, char(10) sempre irá armazenar 10 caracteres, a cadeia ‘Ana’ é armazenada como ‘ Ana’ e ocupa exata- mente 10 bytes, ou seja, é preenchido com brancos no início da cadeia. Já o tipo de dados varchar(n) armazena o número de caracteres que a cadeia possui até o máximo de n. Por exemplo, varchar(10) irá armazenar no máximo 10 caracteres, ou seja, a cadeia ‘Ana’ será armazenada como ‘Ana’, sem preencher os 7 espaços até o máximo de 10 caracteres. \n",
    "- No varchar, como a cadeia é variável o SQL precisa de 2 bytes extras para marcar o início e o fim da cadeia. A cadeia de caracteres ‘Ana’ então utiliza mais 2 bytes para essa finalidade e ocupa 5 bytes para armazenamento. \n",
    "- A escolha entre os tipos char(n) e varchar(n) é feita com base na cadeia que queremos armazenar, se ela é variável como o nome de uma pessoa, escolhemos o tipo varchar, já que minimizamos o espaço de armazenamento e não temos problemas com os espaços inseridos à esquerda da cadeia, por exemplo, varchar(120). Já se a cadeia sempre tem tamanho fixo, como o CPF de uma pessoa (123.456.789-12) utilizamos o tipo de dado char, no exemplo do CPF utilizaríamos char(14). Note que se no exemplo do CPF se escolhermos varchar(14), para cada valor estaríamos utili- zando 16 bytes para cada valor ao invés de 14 bytes usando o char(14). \n",
    "- A tabela abaixo mostra o intervalo de caracteres de cada tipo. Se um varchar for maior que 8000 caracteres, pode-se usar varchar(max) que utiliza até 2^31 – 1 caracteres. \n",
    "- Ex. varchar(10), define o tamanho máximo. Se eu inserir uma palavra de 20 caracteres e o meu campo estiver com um varchar(10), ela trunca (só vai gravar os 10 caracteres), não vai dar erro. Por isso é importante mapear o tipo de dado que vai ser inserido, o modelo conceitual e o modelo lógico para não perder dados, que vc não vai poder recuperar.\n",
    "![alt text](imagens/a4.jpg)"
   ]
  },
  {
   "cell_type": "markdown",
   "metadata": {},
   "source": [
    "### 3.4.2 Cadeias de caracteres Unicode (strings Unicode)\n",
    "- Ao trabalhar com aplicações que podemos armazenar cadeias de caracteres de várias línguas podemos utilizar os tipos de dados dessa subcategoria. Cadeias de caractere Unicode permitem aos bancos de dados representar e manipular de forma consistente cadeias de caracteres de qualquer sistema de escrita existente (Leia mais sobre Uni- code e codificações de caracteres em https://pt.wikipedia.org/wiki/Unicode). \n",
    "- Uma coluna definida como Unicode é independente da codificação utilizada na colação do banco de dados, permitindo então utilizar cadeias escritas em qualquer linguagem. A desvantagem desse tipo de dados é que ao invés de utilizar 1 byte por caractere é que utiliza 2 bytes por caractere. \n",
    "- Se usarmos um tipo de dado Unicode onde não é necessário, por exemplo, uma cadeia sempre escrita em inglês, estaríamos desperdiçando espaço de armazenamento. Temos os tipos nchar para cadeias de caracteres Unicode de tamanho fixo e nvarchar para cadeias de caracteres Unicode de tamanho variável. \n",
    "- O funcionamento desses tipos de dados é o mesmo que os tipos de dados de caracteres não Unicode já discutidos anteriormente. Abaixo a tabela com o intervalo de caracteres de cada tipo. Repare que, como são utilizados dois bytes para cada ca- ractere o intervalo é reduzido pela metade. \n",
    "![alt text](imagens/a5.jpg)\n",
    "Atenção: Ao escrevermos uma cadeia de caractere como ‘Ana’ o SQL interpreta como não Unicode. Para especificar que a cadeia é Unicode temos que prefixar a cadeia com um N (sempre maiúsculo) como N’Ana’ (repare que o N está fora das aspas simples). Sem N no início, o banco irá utilizar a codificação padrão e pode não reconhecer certos caracteres. "
   ]
  },
  {
   "cell_type": "markdown",
   "metadata": {},
   "source": [
    "## 3.6. Binários\n",
    "- Os tipos de dados binários armazenam em cada posição dois valores possíveis: 0 ou 1. Por ex.: 0110011\n",
    "![alt text](imagens/a10.jpg)"
   ]
  },
  {
   "cell_type": "markdown",
   "metadata": {},
   "source": [
    "## 3.7. Outros tipos\n",
    "- Existem outros tipos de dados como ilustrado na tabela a seguir. Para conhecer e saber detalhes dos tipos de dados existentes no banco de dados que você utiliza sempre use a documentação do banco de dados, no nosso caso, sempre consulte a documentação do SQL Server, para tipos de dados se encontra no link: https://docs.microsoft.com/pt-br/sql/t-sql/data-types/data-types-transact-sql\n",
    "![alt text](imagens/a11.jpg)\n"
   ]
  },
  {
   "cell_type": "markdown",
   "metadata": {},
   "source": [
    "# Por que a linguagem SQL varia de SGBD para SGBD?\n",
    "https://pt.stackoverflow.com/questions/325933/por-que-a-linguagem-sql-varia-de-sgbd-para-sgbd "
   ]
  },
  {
   "cell_type": "code",
   "execution_count": null,
   "metadata": {},
   "outputs": [],
   "source": []
  }
 ],
 "metadata": {
  "kernelspec": {
   "display_name": "Python 3",
   "language": "python",
   "name": "python3"
  },
  "language_info": {
   "codemirror_mode": {
    "name": "ipython",
    "version": 3
   },
   "file_extension": ".py",
   "mimetype": "text/x-python",
   "name": "python",
   "nbconvert_exporter": "python",
   "pygments_lexer": "ipython3",
   "version": "3.6.5"
  }
 },
 "nbformat": 4,
 "nbformat_minor": 2
}
