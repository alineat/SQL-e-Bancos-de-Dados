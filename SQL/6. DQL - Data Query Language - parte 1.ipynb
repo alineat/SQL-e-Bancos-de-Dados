{
 "cells": [
  {
   "cell_type": "markdown",
   "metadata": {},
   "source": [
    "# 1. Primeiras consultas no banco de dados\n"
   ]
  },
  {
   "cell_type": "markdown",
   "metadata": {},
   "source": [
    "- como efetivamente consultar o banco de dados para extrair informações para os mais diversos propósitos?\n",
    "- uma das sub-linguagens mais importantes para o dia-a-dia do profissional de bancos de dados;\n",
    "- Uusado para obter listagens de registros simples, limitar as atualizações de dados e a remoção de dados, uso para consulta de registros relacionados;\n",
    "- em um banco de dados populado podemos extrair informações"
   ]
  },
  {
   "cell_type": "markdown",
   "metadata": {},
   "source": [
    "- Categoria de subcomando da linguagem SQL que envolve a declaração de recuperação de dados (SELECT).\n",
    "- SELECT é uma declaração SQL que retorna um conjunto de resultados (já esperado) de registros de uma ou mais tabelas. Ela recupera zero ou mais linhas de uma ou mais tabelas-base, tabelas temporárias, funções ou visões em um banco de dados.\n"
   ]
  },
  {
   "cell_type": "markdown",
   "metadata": {},
   "source": [
    "- Comandos básicos do SELECT:  \n",
    "![alt text](imagens/select.jpg) \n",
    "- SELECT: define quais colunas cou extrair\n",
    "- FROM: de onde estou extraindo, de quais tabelas estou extraindo os dados;\n",
    "- WHERE: cláusula onde as condições são atendidas;\n",
    "- GROUP BY: agrupa por nome, por estado, por situações específicas;\n",
    "- HAVING: condição de agrupamento. Ex: agrupar todas as pessoas que têm no mínimo 10 anos de idade; \n",
    "- ORDER BY: ordem em que o SELECT vai ser retornado.  \n",
    "\n",
    "- WHERE, GROUP BY, HAVING e ORDER BY são opcionais. Tendo o SELECT * FROM tabela ele já executa.\n",
    "- No comando SELECT, quanto mais elementos, mais simplificado e detalhado será a sua busca."
   ]
  },
  {
   "cell_type": "markdown",
   "metadata": {},
   "source": [
    "- a ordem em que a consulta (query) é escrita não significa que será a mesma ordem que o banco de dados utilizará para executar o processamento. Ele pode executar primeiro o FROM, depois WHERE, GROUP BY...:\n",
    "![alt text](imagens/select2.jpg) \n",
    "- isso é só uma observação, não muda em nada no modo de executar as buscas\n"
   ]
  },
  {
   "cell_type": "markdown",
   "metadata": {},
   "source": [
    " - A forma mais simples da declaração SELECT é a utilização junto ao elemento FROM (ex.: SELECT * FROM tabela - selecione todos os campos da tabela x, ai retorna todos os elementos ou SELECT nome_da_coluna, nome_da_coluna2 FROM tabela_X ), conforme mostrado abaixo;\n",
    "\n",
    "- Note que no \"select list\" há uma filtragem vertical, ou seja, retorna uma ou mais colunas de tabelas, mencionadas pela cláusula FROM.\n",
    "![alt text](imagens/select3.jpg) \n",
    "- Esse comando é simples, mas se eu tiver uma tabela com muitas linhas e eu só quiser saber quem tem o nome maria, por ex., eu não preciso receber de retorno todos os nomes da tabela. É por isso que o WHERE é importante, porque posso filtrar quais situações eu quero.  \n",
    "- A ideia do SELECT é justamente simplificar o seu resultado. Uma busca bem feita é otimizada, o reusltado é melhor, mais prático, mais eficiente.\n"
   ]
  },
  {
   "cell_type": "markdown",
   "metadata": {},
   "source": [
    "- Outros exemplos para SELECT simples:\n",
    "    - ( * ) - Retorna todas as colunas da tabela exemploSQL: `SELECT  * FROM exemploSQL`  \n",
    "    - ( coluna ) - Retorna a coluna específica,  texto_curto_naonulo da tabela exemploSQL: `SELECT  texto_curto_naonulo FROM exemploSQL`\n",
    "\n"
   ]
  },
  {
   "cell_type": "markdown",
   "metadata": {},
   "source": [
    "- Podemos utilizar diversos operadores matemáticos para cálculo de valores. Veja os principais operadores:\n",
    "![alt text](imagens/operadores.jpg) \n",
    "![alt text](imagens/operadores2.jpg) \n",
    "- quando retorno a coluna, posso usar funções matemáticas. Consigo otimizar a minha busca e economizar tempo.\n",
    "- P.S.: operadores possuem precedência entre si.\n"
   ]
  },
  {
   "cell_type": "markdown",
   "metadata": {},
   "source": [
    "Ex. para SELECT simples e operadores:\n",
    "- Retorna o resultado das operações abaixo:  \n",
    "\n",
    "`SELECT  20 + 20 / 5 FROM exemploSQL`  \n",
    "`SELECT  (20 + 20) / 5 FROM exemploSQL`   \n",
    "`SELECT  20 + (20 / 5) FROM exemploSQL`  \n",
    "\n",
    "`SELECT  ( (10+2) / 2 ) * 0.3 ) % 2`  \n",
    "\n",
    "`SELECT  Nome, Salario * 1.07 FROM Funcionario`  \n",
    "\n",
    "- Nota: O operador + se transforma em concatenador quando lidamos com string: SELECT  ‘Hoje’ + ‘ ‘ + ‘é’ + ‘ terça-feira ’ + ‘ou’ + ‘ quinta-feira ’ \n",
    "- Dê uma olhada nas funções média, mínimo... Ao invés de fazer a função matemática na aplicação, você pode fazê-la diretamente no BD quando você estiver fazendo a consulta.\n"
   ]
  },
  {
   "cell_type": "markdown",
   "metadata": {},
   "source": [
    "# 2. Como usar apelidos nas consultas de dados"
   ]
  },
  {
   "cell_type": "markdown",
   "metadata": {},
   "source": [
    "Pode ser necessário darmos apelidos (Aliases) a colunas para facilitar o entendimento no retorno dos dados:\n",
    "- Apelidos na coluna utilizando a cláusula AS (não preciso imprimir no SELECT qtd, posso imprimir Quantidade ou qualquer outro nome que eu quiser. Vantagem: não preciso tratar na aplicação. Um campo SELECT bem feito, eu minimizo o trabalho na aplicação, ganho tempo e tenho um resultado melhor):\n",
    "![alt text](imagens/as.jpg) \n",
    "\n",
    "- Também é possível realizar a mesma operação com =\n",
    "![alt text](imagens/as2.jpg) \n",
    "\n",
    "- Ou mesmo, sem a necessidade do AS (SQL entende que preco vai ser ValorProduto):\n",
    "![alt text](imagens/as3.jpg) \n",
    "\n"
   ]
  },
  {
   "cell_type": "markdown",
   "metadata": {},
   "source": [
    "Também pode ser necessário darmos apelidos em tabelas, principalmente quando formos realizar joins:  \n",
    "- Apelidos em tabelas com a cláusula AS:\n",
    "![alt text](imagens/as4.jpg) \n",
    "\n",
    "- Apelidos em tabelas sem AS:\n",
    "![alt text](imagens/as5.jpg) \n",
    "\n",
    "- Usando os apelidos no SELECT: \n",
    "![alt text](imagens/as6.jpg) \n",
    "- Vantagem: se eu tiver uma tabela com nome muito grande, na hora da consulta posso usar apelidos para simplificar esses nomes. Fica mais fácil de ler."
   ]
  },
  {
   "cell_type": "markdown",
   "metadata": {},
   "source": [
    "Exercício de consulta: http://sqlfiddle.com/#!9/caf268/6\n",
    "http://sqlfiddle.com/#!9/805bb7/1\n",
    "http://sqlfiddle.com/#!9/ded19e/2"
   ]
  }
 ],
 "metadata": {
  "kernelspec": {
   "display_name": "Python 3",
   "language": "python",
   "name": "python3"
  },
  "language_info": {
   "codemirror_mode": {
    "name": "ipython",
    "version": 3
   },
   "file_extension": ".py",
   "mimetype": "text/x-python",
   "name": "python",
   "nbconvert_exporter": "python",
   "pygments_lexer": "ipython3",
   "version": "3.6.5"
  }
 },
 "nbformat": 4,
 "nbformat_minor": 2
}
