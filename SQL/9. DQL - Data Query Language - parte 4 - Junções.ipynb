{
 "cells": [
  {
   "cell_type": "markdown",
   "metadata": {},
   "source": [
    "# 1. Junções"
   ]
  },
  {
   "cell_type": "markdown",
   "metadata": {},
   "source": [
    "- IMP!: entenda a diferença dos tipos de JOINS;\n",
    "- Os JOINS são importantes para praticamente qualquer sistema real que utilize bancos de dados relacionais;\n",
    "- JOIN, em suma, identificar em uma tabela e outra quais campos estão se complementando;\n",
    "- Tipos: LEFT, RIGHT, FULL, INNER\n",
    "- Vamos ver as situações em que eu quero que todos os elementos de uma tabela apareçam na minha busca, mesmo que o campo referente a outra tabela esteja nulo ou em branco. Isso é importante, pois eu garanto que todos os elementos de um lado aparecem no meu SELECT. Por ex. quero saber quais alunos da faculdade x e destes alunos, quais serviram o exército. As mulheres não vão ter esse campo preenchido. Se eu não usar um LEFT JOIN por ex. alunos da faculdade x e quem serviu o exército eu vou excluir sem intenção as mulheres, que não serviram o exército ou os homens que não foram dispensados. Então, o LEFT JOIN, RIGHT JOIN, FULL JOIN serve para eu não realizar filtros indesejados."
   ]
  },
  {
   "cell_type": "markdown",
   "metadata": {},
   "source": [
    "# 2. Tipos de JOIN"
   ]
  },
  {
   "cell_type": "markdown",
   "metadata": {},
   "source": [
    "![alt text](imagens/joins.jpg) \n"
   ]
  },
  {
   "cell_type": "markdown",
   "metadata": {},
   "source": [
    "## 2.1. LEFT JOIN"
   ]
  },
  {
   "cell_type": "markdown",
   "metadata": {},
   "source": [
    "- Observando a mesma modelagem mostrada anteriormente, para gerar uma lista com TODOS os produtos, mesmo que não haja relação entre as duas tabelas, podemos substituir a cláusula JOIN por LEFT JOIN.\n",
    "- Ou seja, para gerar uma consulta que apresente OBRIGATORIAMENTE todos os produtos, mesmo aqueles em que não encontramos relação na tabela de fornecedores, poderíamos utilizar a cláusula LEFT JOIN, que faz com que todos os registros do objeto (tabela) do lado ESQUERDO da consulta sejam mostrados.\n",
    "- faço com que todos os elementos da minha tabela A apareçam independente de atenderem ou não o filtro que eu coloquei.\n",
    "- Exemplo: Quero saber todos os prdutos e seus fornecedores. Lembre-se que no ex. da aula passada o campo idfornecedor 9 não apareceu, porque na minha tabela Fornecedor não tenho o idfornecedor 9. Mas aqui eu quero que ele apareça, para isso uso o LEFT JOIN.   \n",
    "![alt text](imagens/left1.jpg)\n",
    "![alt text](imagens/left2.jpg)  \n",
    "- o comando é simples, similar ao comando JOIN, adiciono o LEFT antes do operador.  \n",
    "`\n",
    "SELECT P.Codigo, P.Nome AS ‘Nome do Produto’, P.Estoque, F.Nome AS ‘Nome do Fornecedor’, F.Contato, F.Telefone\n",
    "FROM Produto AS P LEFT JOIN Fornecedor AS F ON P.idFornecedor = F.idFornecedor`  \n",
    "\n",
    "- ON P.idFornecedor = F.idFornecedor -> identifico a chave estrangeira com a chave primária. A única diferença é que eu estou inserindo a informação que eu quero um LEFT JOIN. Quero que todos os elementos da tabela Produto apareçam na minha busca independente de terem alguma relação entre chave primária e chave estrangeira. O resultado vai ser essa tabela, veja que agora o nome do produto de idfornecedor 9 aparece (iphone), apesar do id 9 não constar na tabela Fornecedor. Quando ele não casa com Fornecedor o campo fica NULL:  \n",
    "\n",
    "![alt text](imagens/left3.jpg) \n",
    "- Se não usassemos o LEFT perderíamos essa informação, só teríamos informações dos outros 4 elementos que tem identificador do fornecedor. Com isso garanto que todos os elementos que estão na tabela a esquerda (que é o Produto) vão constar no resultado independente de ter um preenchimento ou não a direita.\n",
    "\n"
   ]
  },
  {
   "cell_type": "markdown",
   "metadata": {},
   "source": [
    "## 2.2. RIGHT JOIN"
   ]
  },
  {
   "cell_type": "markdown",
   "metadata": {},
   "source": [
    "- similar ao LEFT JOIN, só que ao invés de olhar todas os dados da tabela a esquerda, olho todos os dados da minha tabela a direita. Todos os elementos a direira (B) vão retornar independente de ter o resultado ou não a esquerda (A);\n",
    "- Podemos fazer o inverso, ou seja, gerar uma lista com OBRIGATORIAMENTE todos os fornecedores, mesmo aqueles em que não encontramos relação na tabela de produtos, bastando alterar para cláusula RIGHT JOIN, que faz com que todos os registros do lado DIREITO da consulta sejam mostrados.  \n",
    "- O controle do modo que queremos o JOIN é realizado apenas pelo posicionamento da tabela ao lado direito ou esquerdo do SELECT ou simplesmente trocando a cláusula de RIGHT JOIN para LEFT JOIN. \n",
    "- Por exemplo, as tabelas TB1 e TB2, relacionadas pelas colunas C1 e C2. Se quisermos gerar uma lista com TODOS os registros da tabela TB1, os SELECTs abaixo geram essa lista:  \n",
    "`SELECT ... FROM TB1  LEFT JOIN   TB2  ON  TB1.C1 = TB2.C2` caso as chaves primárias. Aqui o TB1 estará totalemnete preenchido, todos os seus campos vão constar no resultado. \n",
    "OU  \n",
    "`SELECT ... FROM TB2  RIGHT JOIN TB1 ON TB2.C2 = TB1.C1` . Aqui faço com que todos os elementos do TB2 constem, mas quando eu utilizo o RIGHT o TB1 vai para o outro campo. Garanto que todos os elementos da minha TB1 estejam na minha busca.\n",
    "- Veja o exemplo, meu produto iphone de id 9:\n",
    "![alt text](imagens/right1.jpg)\n",
    "![alt text](imagens/right2.jpg)\n",
    "`SELECT P.Codigo, P.Nome AS ‘Nome do Produto’, P.Estoque, F.Nome AS ‘Nome do Fornecedor’, F.Contato, F.Telefone `\n",
    "`FROM     Produto AS P  RIGHT JOIN   Fornecedor AS F ON P.idFornecedor = F.idFornecedor`\n",
    "![alt text](imagens/right3.jpg) \n",
    "\n",
    "\n",
    "\n",
    "\n",
    "\n"
   ]
  }
 ],
 "metadata": {
  "kernelspec": {
   "display_name": "Python 3",
   "language": "python",
   "name": "python3"
  },
  "language_info": {
   "codemirror_mode": {
    "name": "ipython",
    "version": 3
   },
   "file_extension": ".py",
   "mimetype": "text/x-python",
   "name": "python",
   "nbconvert_exporter": "python",
   "pygments_lexer": "ipython3",
   "version": "3.6.5"
  }
 },
 "nbformat": 4,
 "nbformat_minor": 2
}
